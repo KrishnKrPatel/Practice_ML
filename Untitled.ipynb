{
 "cells": [
  {
   "cell_type": "code",
   "execution_count": 13,
   "metadata": {},
   "outputs": [],
   "source": [
    "import numpy as np\n",
    "import pandas as pd\n",
    "from sklearn import svm\n",
    "import matplotlib.pyplot as plt\n",
    "%matplotlib inline"
   ]
  },
  {
   "cell_type": "code",
   "execution_count": 14,
   "metadata": {},
   "outputs": [],
   "source": [
    "from __future__ import division,print_function\n",
    "from sklearn import datasets,svm\n",
    "from sklearn.model_selection import train_test_split\n",
    "import numpy as np\n",
    "import pandas as pd\n",
    "import matplotlib.pyplot as plt\n",
    "%matplotlib inline"
   ]
  },
  {
   "cell_type": "code",
   "execution_count": 18,
   "metadata": {},
   "outputs": [],
   "source": [
    "#importing the dataset \n",
    "from sklearn.datasets import load_iris\n",
    "iris=load_iris()\n",
    "X=iris.data[:,:2]\n",
    "y=iris.target\n",
    "#spliting the dataset into training and testing dataset\n",
    "from sklearn.model_selection import train_test_split\n",
    "X_train,X_test,y_train,y_test=train_test_split(X,y,test_size=0.25,random_state=42)\n"
   ]
  },
  {
   "cell_type": "code",
   "execution_count": 19,
   "metadata": {},
   "outputs": [],
   "source": [
    "def evaluate_on_test_dataset(model=None):\n",
    "    predictions=model.predict(X_test)\n",
    "    correctpredictions=0\n",
    "    for i in range(len(y_test)):\n",
    "        if predictions[i]== y_test[i]:\n",
    "            correctpredictions+=1\n",
    "    accuracy=100*(correctpredictions)/len(y_test)\n",
    "    return accuracy\n",
    "        \n",
    "        \n",
    "    "
   ]
  },
  {
   "cell_type": "code",
   "execution_count": 29,
   "metadata": {},
   "outputs": [
    {
     "name": "stdout",
     "output_type": "stream",
     "text": [
      "86.84210526315789 the accuracy % obtained with the kernels= linear.\n",
      "92.10526315789474 the accuracy % obtained with the kernels= poly.\n",
      "86.84210526315789 the accuracy % obtained with the kernels= rbf.\n"
     ]
    }
   ],
   "source": [
    "kernels=('linear','poly','rbf')\n",
    "accuracies=[]\n",
    "for index,kernel in enumerate(kernels):\n",
    "    model=svm.SVC(kernel=kernel)\n",
    "    model.fit(X_test,y_test)\n",
    "    acc=evaluate_on_test_dataset(model)\n",
    "    accuracies.append(acc)\n",
    "    print(\"{0} the accuracy % obtained with the kernels= {1}.\".format(acc,kernel))"
   ]
  },
  {
   "cell_type": "markdown",
   "metadata": {},
   "source": [
    "\n",
    "# visulalization of the kernels"
   ]
  },
  {
   "cell_type": "code",
   "execution_count": null,
   "metadata": {},
   "outputs": [],
   "source": []
  }
 ],
 "metadata": {
  "kernelspec": {
   "display_name": "Python 3",
   "language": "python",
   "name": "python3"
  },
  "language_info": {
   "codemirror_mode": {
    "name": "ipython",
    "version": 3
   },
   "file_extension": ".py",
   "mimetype": "text/x-python",
   "name": "python",
   "nbconvert_exporter": "python",
   "pygments_lexer": "ipython3",
   "version": "3.7.0"
  }
 },
 "nbformat": 4,
 "nbformat_minor": 2
}
