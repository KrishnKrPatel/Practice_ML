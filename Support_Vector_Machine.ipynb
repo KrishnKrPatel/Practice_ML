{
 "cells": [
  {
   "cell_type": "markdown",
   "metadata": {},
   "source": [
    "# 1.1 Importing the nessary package"
   ]
  },
  {
   "cell_type": "code",
   "execution_count": 1,
   "metadata": {},
   "outputs": [],
   "source": [
    "from __future__ import division,print_function\n",
    "from sklearn import datasets,svm\n",
    "from sklearn.model_selection import train_test_split\n",
    "import numpy as np\n",
    "import pandas as pd\n",
    "import matplotlib.pyplot as plt\n",
    "%matplotlib inline"
   ]
  },
  {
   "cell_type": "markdown",
   "metadata": {},
   "source": [
    "# Support Vector Machine"
   ]
  },
  {
   "cell_type": "markdown",
   "metadata": {},
   "source": [
    "# 1.2 load iris dataset from sklearn datasets"
   ]
  },
  {
   "cell_type": "code",
   "execution_count": 2,
   "metadata": {},
   "outputs": [],
   "source": [
    "#loading the dataset from the datasets\n",
    "iris=datasets.load_iris()\n",
    "#features Extraction from the iris dataset\n",
    "X=iris.data[:,:2]\n",
    "y=iris.target\n",
    "#split the dataset into training set and test set\n",
    "X_train,X_test,y_train,y_test=train_test_split(X,y,test_size=0.25,random_state=42)"
   ]
  },
  {
   "cell_type": "markdown",
   "metadata": {},
   "source": [
    "# Use support vector machine with differenct kinds of kernals"
   ]
  },
  {
   "cell_type": "code",
   "execution_count": 12,
   "metadata": {},
   "outputs": [],
   "source": [
    "def evaluate_on_test_data(model=None):\n",
    "    predictions=model.predict(X_test)\n",
    "    correctpredictions=0\n",
    "    for i in range(len(y_test)):\n",
    "        if predictions[i]== y_test[i]:\n",
    "            correctpredictions+=1\n",
    "    accuracy=100*(correctpredictions)/len(y_test) #acccracy of the models\n",
    "    return accuracy"
   ]
  },
  {
   "cell_type": "code",
   "execution_count": 21,
   "metadata": {},
   "outputs": [
    {
     "name": "stdout",
     "output_type": "stream",
     "text": [
      "86.84210526315789 accuracy % optained with kernels= linear.\n",
      "92.10526315789474 accuracy % optained with kernels= poly.\n",
      "86.84210526315789 accuracy % optained with kernels= rbf.\n"
     ]
    }
   ],
   "source": [
    "kernels=('linear','poly','rbf')\n",
    "accuracies=[]\n",
    "for index,kernel in enumerate(kernels):\n",
    "    model=svm.SVC(kernel=kernel)\n",
    "    model.fit(X_test,y_test)\n",
    "    acc=evaluate_on_test_data(model)\n",
    "    accuracies.append(acc)\n",
    "    print(\"{} accuracy % optained with kernels= {}.\".format(acc,kernel))"
   ]
  },
  {
   "cell_type": "markdown",
   "metadata": {},
   "source": [
    "# 1.3 Visualize the decision boudries"
   ]
  },
  {
   "cell_type": "code",
   "execution_count": null,
   "metadata": {},
   "outputs": [],
   "source": []
  }
 ],
 "metadata": {
  "kernelspec": {
   "display_name": "Python 3",
   "language": "python",
   "name": "python3"
  },
  "language_info": {
   "codemirror_mode": {
    "name": "ipython",
    "version": 3
   },
   "file_extension": ".py",
   "mimetype": "text/x-python",
   "name": "python",
   "nbconvert_exporter": "python",
   "pygments_lexer": "ipython3",
   "version": "3.7.0"
  }
 },
 "nbformat": 4,
 "nbformat_minor": 2
}
