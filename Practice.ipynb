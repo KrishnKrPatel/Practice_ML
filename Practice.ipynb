{
 "cells": [
  {
   "cell_type": "code",
   "execution_count": 1,
   "metadata": {},
   "outputs": [],
   "source": [
    "import numpy as np\n"
   ]
  },
  {
   "cell_type": "code",
   "execution_count": 50,
   "metadata": {},
   "outputs": [
    {
     "name": "stdout",
     "output_type": "stream",
     "text": [
      "vectorized version:3.9894580841064453ms\n",
      "250030.0593916918\n",
      "non-vectorized version:772.3550796508789ms\n",
      "250030.0593916898\n"
     ]
    }
   ],
   "source": [
    "import time\n",
    "#in vectorized case \n",
    "a=np.random.rand(1000000)\n",
    "b=np.random.rand(1000000)\n",
    "tic=time.time()\n",
    "c=np.dot(a,b)\n",
    "toc=time.time()\n",
    "print(\"vectorized version:\"+str(1000*(toc-tic))+ \"ms\")\n",
    "print(c)\n",
    "#non-vectorizaes\n",
    "c=0\n",
    "tic=time.time()\n",
    "for i in range(1000000):\n",
    "    c+=a[i]*b[i]\n",
    "toc=time.time()\n",
    "print(\"non-vectorized version:\"+str(1000*(toc-tic)) +\"ms\")\n",
    "print(c)"
   ]
  },
  {
   "cell_type": "code",
   "execution_count": 1,
   "metadata": {},
   "outputs": [],
   "source": [
    "import numpy as np\n"
   ]
  },
  {
   "cell_type": "code",
   "execution_count": 18,
   "metadata": {},
   "outputs": [
    {
     "name": "stdout",
     "output_type": "stream",
     "text": [
      "[-0.34187618 -0.48077987 -0.57060096  1.54986859 -0.55888856]\n",
      "[-0.34187618 -0.48077987 -0.57060096  1.54986859 -0.55888856]\n",
      "3.388063110381075\n"
     ]
    }
   ],
   "source": [
    "a=np.random.randn(5)\n",
    "print(a)\n",
    "print(a.T)\n",
    "print(np.dot(a.T,a))"
   ]
  },
  {
   "cell_type": "code",
   "execution_count": 21,
   "metadata": {},
   "outputs": [
    {
     "name": "stdout",
     "output_type": "stream",
     "text": [
      "(5, 1)\n",
      "[[ 0.2607503 ]\n",
      " [ 0.83316953]\n",
      " [-0.66439642]\n",
      " [ 0.47406717]\n",
      " [-0.72959189]]\n",
      "[[ 0.2607503   0.83316953 -0.66439642  0.47406717 -0.72959189]]\n",
      "[[1.96062879]]\n"
     ]
    }
   ],
   "source": [
    "b=np.random.randn(5,1)\n",
    "print(b.shape)\n",
    "print(b)\n",
    "print(b.T)\n",
    "print(np.dot(b.T,b))"
   ]
  }
 ],
 "metadata": {
  "kernelspec": {
   "display_name": "Python 3",
   "language": "python",
   "name": "python3"
  },
  "language_info": {
   "codemirror_mode": {
    "name": "ipython",
    "version": 3
   },
   "file_extension": ".py",
   "mimetype": "text/x-python",
   "name": "python",
   "nbconvert_exporter": "python",
   "pygments_lexer": "ipython3",
   "version": "3.7.0"
  }
 },
 "nbformat": 4,
 "nbformat_minor": 2
}
